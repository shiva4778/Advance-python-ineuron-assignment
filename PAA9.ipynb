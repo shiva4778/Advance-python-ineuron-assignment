{
 "cells": [
  {
   "cell_type": "markdown",
   "id": "8de02215",
   "metadata": {},
   "source": [
    "# Q1. In Python 3.X, what are the names and functions of string object types?"
   ]
  },
  {
   "cell_type": "markdown",
   "id": "2e463255",
   "metadata": {},
   "source": [
    "isupper()\tChecks if all characters in the string are uppercase,\n",
    "join()\tReturns a concatenated String,\n",
    "ljust()\tLeft aligns the string according to the width specified,\n",
    "lower()\tConverts all uppercase characters in a string into lowercase"
   ]
  },
  {
   "cell_type": "markdown",
   "id": "2ad23a8a",
   "metadata": {},
   "source": [
    "# Q2. How do the string forms in Python 3.X vary in terms of operations?"
   ]
  },
  {
   "cell_type": "markdown",
   "id": "d1b6e581",
   "metadata": {},
   "source": [
    " In Python3 default format of strings is Unicode Whereas in Pyton2 we need to explicitly mention Unicode value using u."
   ]
  },
  {
   "cell_type": "markdown",
   "id": "5280d96f",
   "metadata": {},
   "source": [
    "# Q3. In 3.X, how do you put non-ASCII Unicode characters in a string?"
   ]
  },
  {
   "cell_type": "raw",
   "id": "5b2c3ce9",
   "metadata": {},
   "source": [
    "from unidecode import unidecode\n",
    "print(unidecode(u'ko\\u017eu\\u0161\\u010dek'))\n",
    "print(unidecode(\"आप नीचे अपनी भाषा और इनपुट उपकरण चुनें और लिखना आरंभ करें\"))\n",
    "print(unidecode(\"谢谢你\"))\n",
    "print(unidecode(\"ありがとう。\"))\n",
    "print(unidecode(\"улыбаться Владимир Путин\"))"
   ]
  },
  {
   "cell_type": "markdown",
   "id": "7c041f56",
   "metadata": {},
   "source": [
    "# Q4. In Python 3.X, what are the key differences between text-mode and binary-mode files?"
   ]
  },
  {
   "cell_type": "markdown",
   "id": "a0f45551",
   "metadata": {},
   "source": [
    "In text mode the file are stored in the same format as it is given \n",
    "In binary mode the file are stored in 0/1 format or binary format"
   ]
  },
  {
   "cell_type": "markdown",
   "id": "96e0e518",
   "metadata": {},
   "source": [
    "# Q5. How can you interpret a Unicode text file containing text encoded in a different encoding than your platform&#39;s default?"
   ]
  },
  {
   "cell_type": "markdown",
   "id": "6473730e",
   "metadata": {},
   "source": [
    "The major difference between these two is that a text file contains textual information in the form of alphabets, digits and special characters or symbols. On the other hand, a binary file contains bytes or a compiled version of a text file.\n",
    "\n",
    "When a file is opened in text mode, reading its data automatically decodes its content (as per the platform default or as per provided encoding), and returns it as a str; writing operation takes a str, and automatically encodes it before transferring to the file. Text mode files also support universal end-of-line translation, and encoding specification arguments.\n",
    "\n",
    "When a file is opened in binary mode by adding a b to the mode string argument in the open() call, reading its data does not decode it in any way, and simply returns its content raw and unchanged, as a bytes object; writing takes a bytes object and transfers it to the file unchanged. Binary-mode files also accept a bytearray object for the content to be written to the file."
   ]
  },
  {
   "cell_type": "markdown",
   "id": "7bdd58ed",
   "metadata": {},
   "source": [
    "# Q6. What is the best way to make a Unicode text file in a particular encoding format?"
   ]
  },
  {
   "cell_type": "markdown",
   "id": "9bbbae56",
   "metadata": {},
   "source": [
    " Use str.encode() and file.write() to make a Unicode text file in a particular encoding format, default encoding format is UTF-18.\n",
    "\n",
    "Call str.encode(encoding) with encoding set to utf8 to encode str.\n",
    "Call open(file, mode) to open a file with mode set to wb . wb writes to files in binary mode & preserves UTF-8format.\n",
    "Call file.write(data) to write data to the file."
   ]
  },
  {
   "cell_type": "markdown",
   "id": "7a1ff415",
   "metadata": {},
   "source": [
    "# Q7. What qualifies ASCII text as a form of Unicode text?"
   ]
  },
  {
   "cell_type": "markdown",
   "id": "7e3cfc46",
   "metadata": {},
   "source": [
    "Unicode represents most written languages in the world. ASCII has its equivalent in Unicode. The difference between ASCII and Unicode is that ASCII represents lowercase letters (a-z), uppercase letters (A-Z), digits (0–9) and symbols such as punctuation marks while Unicode represents letters of English, Arabic, Greek etc. mathematical symbols, historical scripts, emoji covering a wide range of characters than ASCII."
   ]
  },
  {
   "cell_type": "markdown",
   "id": "84541ca8",
   "metadata": {},
   "source": [
    "# Q8. How much of an effect does the change in string types in Python 3.X have on your code?"
   ]
  },
  {
   "cell_type": "markdown",
   "id": "e473fcca",
   "metadata": {},
   "source": [
    " Python 3 stores strings as Unicode by default whereas Python 2 requires you to mark a string with a u if you want to store it as Unicode. Unicode strings are more versatile than ASCII strings, which are the Python 3.X default, as they can store letters from foreign languages as well as emoji and the standard Roman letters and numerals."
   ]
  },
  {
   "cell_type": "code",
   "execution_count": null,
   "id": "7c34577d",
   "metadata": {},
   "outputs": [],
   "source": []
  }
 ],
 "metadata": {
  "kernelspec": {
   "display_name": "Python 3 (ipykernel)",
   "language": "python",
   "name": "python3"
  },
  "language_info": {
   "codemirror_mode": {
    "name": "ipython",
    "version": 3
   },
   "file_extension": ".py",
   "mimetype": "text/x-python",
   "name": "python",
   "nbconvert_exporter": "python",
   "pygments_lexer": "ipython3",
   "version": "3.9.12"
  }
 },
 "nbformat": 4,
 "nbformat_minor": 5
}
