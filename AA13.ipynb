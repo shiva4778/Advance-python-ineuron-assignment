{
 "cells": [
  {
   "cell_type": "markdown",
   "id": "3eb1c2d2",
   "metadata": {},
   "source": [
    "## Q1. Can you create a programme or function that employs both positive and negative indexing? Is there any repercussion if you do so?"
   ]
  },
  {
   "cell_type": "code",
   "execution_count": 8,
   "id": "7357776d",
   "metadata": {},
   "outputs": [
    {
     "name": "stdout",
     "output_type": "stream",
     "text": [
      "([0, 1, 2, 3, 4, 5, 6, 7, 8, 9], [9, 8, 7, 6, 5, 4, 3, 2, 1, 0])\n"
     ]
    }
   ],
   "source": [
    "a=[i for i in range(10)]\n",
    "s=[]\n",
    "k=[]\n",
    "def x():\n",
    "    for i in range(len(a)):\n",
    "        s.append(a[i])\n",
    "        k.append(a[-i-1])\n",
    "    return s,k\n",
    "k=x(a)\n",
    "print(k)"
   ]
  },
  {
   "cell_type": "markdown",
   "id": "dbafdbe5",
   "metadata": {},
   "source": [
    "## Q2. What is the most effective way of starting with 1,000 elements in a Python list? Assume that all elements should be set to the same value."
   ]
  },
  {
   "cell_type": "code",
   "execution_count": 9,
   "id": "bb40aacc",
   "metadata": {},
   "outputs": [],
   "source": [
    "x=[i for i in range(1000)]"
   ]
  },
  {
   "cell_type": "markdown",
   "id": "11179bef",
   "metadata": {},
   "source": [
    "# Q3. How do you slice a list to get any other part while missing the rest? (For example, suppose you want to make a new list with the elements first, third, fifth, seventh, and so on.)"
   ]
  },
  {
   "cell_type": "markdown",
   "id": "5309efd0",
   "metadata": {},
   "source": [
    "You can use step value in the range function"
   ]
  },
  {
   "cell_type": "code",
   "execution_count": 12,
   "id": "533ec107",
   "metadata": {},
   "outputs": [
    {
     "data": {
      "text/plain": [
       "[0, 2, 4, 6, 8, 10, 12, 14, 16, 18]"
      ]
     },
     "execution_count": 12,
     "metadata": {},
     "output_type": "execute_result"
    }
   ],
   "source": [
    "i=[i for i in range(20)]\n",
    "i[::2]"
   ]
  },
  {
   "cell_type": "markdown",
   "id": "88e446d0",
   "metadata": {},
   "source": [
    "# Q4. Explain the distinctions between indexing and slicing."
   ]
  },
  {
   "cell_type": "markdown",
   "id": "b655496d",
   "metadata": {},
   "source": [
    "Indexing-Indexing can be defined as accessing a single element using the index \n",
    "Slicing-Slicing can be defined as the accessing a sequence of element using the index"
   ]
  },
  {
   "cell_type": "markdown",
   "id": "307b5175",
   "metadata": {},
   "source": [
    "# Q5. What happens if one of the slicing expression&#39;s indexes is out of range?"
   ]
  },
  {
   "cell_type": "markdown",
   "id": "81797ca4",
   "metadata": {},
   "source": [
    "It will return the element from first index to the length of the string"
   ]
  },
  {
   "cell_type": "markdown",
   "id": "d2656bdc",
   "metadata": {},
   "source": [
    " # Q6. If you pass a list to a function, and if you want the function to be able to change the values of the list—so that the list is different after the function returns—what action should you avoid?"
   ]
  },
  {
   "cell_type": "markdown",
   "id": "3e431976",
   "metadata": {},
   "source": [
    "The updation index should be within the range,otherwise it will give error in console and use return statement.\n"
   ]
  },
  {
   "cell_type": "markdown",
   "id": "a4b19dcb",
   "metadata": {},
   "source": [
    "# Q7. What is the concept of an unbalanced matrix?"
   ]
  },
  {
   "cell_type": "markdown",
   "id": "45cb94ef",
   "metadata": {},
   "source": [
    "In unbalanced matrix no of row is not equal to the no of column"
   ]
  },
  {
   "cell_type": "markdown",
   "id": "92f3b371",
   "metadata": {},
   "source": [
    "# Q8. Why is it necessary to use either list comprehension or a loop to create arbitrarily large matrices?"
   ]
  },
  {
   "cell_type": "markdown",
   "id": "0874d6b0",
   "metadata": {},
   "source": [
    "We have to write few lines of code like we have to give only first index,last index and step value and it will create the list"
   ]
  },
  {
   "cell_type": "code",
   "execution_count": null,
   "id": "705633ff",
   "metadata": {},
   "outputs": [],
   "source": []
  }
 ],
 "metadata": {
  "kernelspec": {
   "display_name": "Python 3 (ipykernel)",
   "language": "python",
   "name": "python3"
  },
  "language_info": {
   "codemirror_mode": {
    "name": "ipython",
    "version": 3
   },
   "file_extension": ".py",
   "mimetype": "text/x-python",
   "name": "python",
   "nbconvert_exporter": "python",
   "pygments_lexer": "ipython3",
   "version": "3.9.12"
  }
 },
 "nbformat": 4,
 "nbformat_minor": 5
}
