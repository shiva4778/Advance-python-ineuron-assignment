{
 "cells": [
  {
   "cell_type": "markdown",
   "id": "52d748e9",
   "metadata": {},
   "source": [
    "# Q1. What is the distinction between a numpy array and a pandas data frame? Is there a way to convert between the two if there is?"
   ]
  },
  {
   "cell_type": "markdown",
   "id": "73b8e260",
   "metadata": {},
   "source": [
    "Numpy array are used to store the data of the same types while data frame stores in the tabular format with index and column name .Pandas dataframe can store data of different types"
   ]
  },
  {
   "cell_type": "markdown",
   "id": "fd53bb73",
   "metadata": {},
   "source": [
    "# Q2. Identify some of the plotting techniques that are used to produce a stock-market chart."
   ]
  },
  {
   "cell_type": "markdown",
   "id": "b2bb5819",
   "metadata": {},
   "source": [
    "Bar chart,column chart"
   ]
  },
  {
   "cell_type": "markdown",
   "id": "1d86e762",
   "metadata": {},
   "source": [
    "# Q3. Why is it essential to print a legend on a stock market chart ?"
   ]
  },
  {
   "cell_type": "markdown",
   "id": "a7c6b7f4",
   "metadata": {},
   "source": [
    "Legend will helps us to compare the different stocks"
   ]
  },
  {
   "cell_type": "markdown",
   "id": "dcedaa97",
   "metadata": {},
   "source": [
    "# Q4. What is the best way to limit the length of a pandas data frame to less than a year ?"
   ]
  },
  {
   "cell_type": "markdown",
   "id": "702223c5",
   "metadata": {},
   "source": [
    "We can use start and end parameters for that. In start we write the date from where we are starting and at the end we write the end date. SO within this span we can restric the duration.Also we can use the parameters like periods for how much times we need the duration and we can also use the frequency parameter."
   ]
  },
  {
   "cell_type": "markdown",
   "id": "786f3027",
   "metadata": {},
   "source": [
    "# Q5. What is the definition of a 180-day moving average ?"
   ]
  },
  {
   "cell_type": "markdown",
   "id": "2db3e808",
   "metadata": {},
   "source": [
    "The 180-day moving average is represented as a line on charts and represents the average price over the past 180 days. The moving average can give traders a sense regarding whether the trend is up or down, while also identifying potential support or resistance areas."
   ]
  },
  {
   "cell_type": "code",
   "execution_count": null,
   "id": "8651736a",
   "metadata": {},
   "outputs": [],
   "source": []
  }
 ],
 "metadata": {
  "kernelspec": {
   "display_name": "Python 3 (ipykernel)",
   "language": "python",
   "name": "python3"
  },
  "language_info": {
   "codemirror_mode": {
    "name": "ipython",
    "version": 3
   },
   "file_extension": ".py",
   "mimetype": "text/x-python",
   "name": "python",
   "nbconvert_exporter": "python",
   "pygments_lexer": "ipython3",
   "version": "3.9.12"
  }
 },
 "nbformat": 4,
 "nbformat_minor": 5
}
