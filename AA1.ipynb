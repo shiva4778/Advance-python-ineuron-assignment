{
 "cells": [
  {
   "cell_type": "markdown",
   "id": "3b268c21",
   "metadata": {},
   "source": [
    "# Q1. What is the purpose of Python's OOP?"
   ]
  },
  {
   "cell_type": "markdown",
   "id": "c13eae20",
   "metadata": {},
   "source": [
    "OOP stands for object oriented programming.In python everything is considered as object.\n",
    "OOP allows us to break the program into smaller task such tht it can be solved easily\n",
    "OOP allows us to implement the real word entities like polymorphism,encapsulation,inheritance,abstraction etc"
   ]
  },
  {
   "cell_type": "markdown",
   "id": "febd68ac",
   "metadata": {},
   "source": [
    "# Q2. Where does an inheritance search look for an attribute?"
   ]
  },
  {
   "cell_type": "markdown",
   "id": "fe2d9b55",
   "metadata": {},
   "source": [
    "Python searches for an attribute in an upward tree of attributes. it first searches for the attribute in its instance and then looks in the class it is generated from, to all super classes listed in its class header"
   ]
  },
  {
   "cell_type": "markdown",
   "id": "896a2c7f",
   "metadata": {},
   "source": [
    "# Q3. How do you distinguish between a class object and an instance object?"
   ]
  },
  {
   "cell_type": "raw",
   "id": "ad851cac",
   "metadata": {},
   "source": [
    "i.Class can be defined as a blueprint of an object.Object is an instance of the class.\n",
    "ii. For each object different memory location is alloted , whereas in class memory location is same\n",
    "iii.To create a class we use the class keyword ,where as to create an object we use to call the class\n",
    "iv.A Class is created once and many object is created using class"
   ]
  },
  {
   "cell_type": "markdown",
   "id": "4cfb4cd2",
   "metadata": {},
   "source": [
    "# Q4. What makes the first argument in a class’s method function special?"
   ]
  },
  {
   "cell_type": "raw",
   "id": "67f3e93b",
   "metadata": {},
   "source": [
    "The first argument in a class's method function special is 'self' which is not an reseved keyword.It is used to create varible in a class and it act as a pointer whenever we need to use the variable from another method then self will help us to access the variable ."
   ]
  },
  {
   "cell_type": "markdown",
   "id": "0137a39c",
   "metadata": {},
   "source": [
    "# Q5.What is the purpose of the __init__ method?"
   ]
  },
  {
   "cell_type": "raw",
   "id": "73b4a523",
   "metadata": {},
   "source": [
    "__init__ method is a constructor in a class.Whenever an object is created it is called automatically "
   ]
  },
  {
   "cell_type": "markdown",
   "id": "cbed6456",
   "metadata": {},
   "source": [
    "# Q6. What is the process for creating a class instance?"
   ]
  },
  {
   "cell_type": "markdown",
   "id": "a2410d69",
   "metadata": {},
   "source": [
    "instance of a class is an object.We can say instation as an construction of an object .Whenever value vary from one object to another it is called instance variable..\n",
    "Step to create an class instance....\n",
    "class welcome:   #class is being created\n",
    "    def __init__(self,a,b):#init is an constructor\n",
    "        self.a=a  #creating an instance variable\n",
    "        self.b=b\n"
   ]
  },
  {
   "cell_type": "markdown",
   "id": "165275a6",
   "metadata": {},
   "source": [
    "## Q7. What is the process for creating a class instance?"
   ]
  },
  {
   "cell_type": "code",
   "execution_count": 7,
   "id": "fa7087d3",
   "metadata": {},
   "outputs": [],
   "source": [
    "class shivanshu:\n",
    "    pass"
   ]
  },
  {
   "cell_type": "markdown",
   "id": "2c1693b9",
   "metadata": {},
   "source": [
    "## Q8. How would you define the superclasses of a class?"
   ]
  },
  {
   "cell_type": "code",
   "execution_count": 8,
   "id": "de1659f9",
   "metadata": {},
   "outputs": [],
   "source": [
    "class shiva:\n",
    "    def __init__(self,a,b):\n",
    "        self.a=a\n",
    "        self.b=b\n",
    "class shivanshu(shiva):\n",
    "    pass"
   ]
  },
  {
   "cell_type": "markdown",
   "id": "ae81deaf",
   "metadata": {},
   "source": [
    "In above example shiva is the super class also called parent class where shivanshu is called child class because it is inheritiating it methods and properties from shiva which is the parent class."
   ]
  },
  {
   "cell_type": "code",
   "execution_count": null,
   "id": "4509d9b7",
   "metadata": {},
   "outputs": [],
   "source": []
  }
 ],
 "metadata": {
  "kernelspec": {
   "display_name": "Python 3 (ipykernel)",
   "language": "python",
   "name": "python3"
  },
  "language_info": {
   "codemirror_mode": {
    "name": "ipython",
    "version": 3
   },
   "file_extension": ".py",
   "mimetype": "text/x-python",
   "name": "python",
   "nbconvert_exporter": "python",
   "pygments_lexer": "ipython3",
   "version": "3.9.12"
  }
 },
 "nbformat": 4,
 "nbformat_minor": 5
}
