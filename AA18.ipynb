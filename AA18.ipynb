{
 "cells": [
  {
   "cell_type": "markdown",
   "id": "9b2c60c8",
   "metadata": {},
   "source": [
    "# Q1. Describe the differences between text and binary files in a single paragraph."
   ]
  },
  {
   "cell_type": "markdown",
   "id": "131a66c5",
   "metadata": {},
   "source": [
    "Text file are the file in which the information is stored in ASCII or unicode character . In text file each line of text is terminaed with a special characer known as EOL( ENd of Line)\n",
    "Binry file are the file in which the information is stored in same format in which information is held in memory. THe file content is returned to you is raw means no transationn has occured Binary file are fast as compared to text file"
   ]
  },
  {
   "cell_type": "markdown",
   "id": "c9825749",
   "metadata": {},
   "source": [
    "# Q2. What are some scenarios where using text files will be the better option? When would you like to use binary files instead of text files?"
   ]
  },
  {
   "cell_type": "markdown",
   "id": "3c4456ef",
   "metadata": {},
   "source": [
    "Text file will be better when we want to read it because it is an human readabe format . Text file does not hold any formatting.\n",
    "Binary files are the file that are stored in binary format we use this when we have to store or transfer the file .."
   ]
  },
  {
   "cell_type": "markdown",
   "id": "0ca5761e",
   "metadata": {},
   "source": [
    "# Q3. What are some of the issues with using binary operations to read and write a Python integer directly to disc?"
   ]
  },
  {
   "cell_type": "markdown",
   "id": "09ba6388",
   "metadata": {},
   "source": [
    "i.Binary operations deal with raw data\n",
    "ii.One needs to identify how many bytes one would read or write."
   ]
  },
  {
   "cell_type": "markdown",
   "id": "a71197da",
   "metadata": {},
   "source": [
    "# Q4. Describe a benefit of using the with keyword instead of explicitly opening a file."
   ]
  },
  {
   "cell_type": "markdown",
   "id": "2b6406e7",
   "metadata": {},
   "source": [
    "With will open a opening , closing and writing the file within a few line .At last with always closes the file , if an exception occurs with handles it"
   ]
  },
  {
   "cell_type": "markdown",
   "id": "f8d0eb7b",
   "metadata": {},
   "source": [
    "# Q5. Does Python have the trailing newline while reading a line of text? Does Python append a newline when you write a line of text?"
   ]
  },
  {
   "cell_type": "markdown",
   "id": "699122fc",
   "metadata": {},
   "source": [
    "yes , by default it is new line character or carriage return..."
   ]
  },
  {
   "cell_type": "markdown",
   "id": "6cd7821b",
   "metadata": {},
   "source": [
    "# Q6. What file operations enable for random-access operation?"
   ]
  },
  {
   "cell_type": "markdown",
   "id": "da95d709",
   "metadata": {},
   "source": [
    "The random-access operation are seek() and tell()"
   ]
  },
  {
   "cell_type": "markdown",
   "id": "847536c9",
   "metadata": {},
   "source": [
    "# Q7. When do you think you&#39;ll use the struct package the most?"
   ]
  },
  {
   "cell_type": "markdown",
   "id": "da3d4ef5",
   "metadata": {},
   "source": [
    "The struct package is widely used while converting a common python types to c type"
   ]
  },
  {
   "cell_type": "markdown",
   "id": "39477f8b",
   "metadata": {},
   "source": [
    "# Q8. When is pickling the best option?"
   ]
  },
  {
   "cell_type": "markdown",
   "id": "106e0434",
   "metadata": {},
   "source": [
    "Pickling is a method to convert the python object into a byte stream to store it in a file/database ,maintain program state across sessions , or transport data over the network"
   ]
  },
  {
   "cell_type": "markdown",
   "id": "f1a01741",
   "metadata": {},
   "source": [
    "# Q9. When will it be best to use the shelve package?"
   ]
  },
  {
   "cell_type": "markdown",
   "id": "eaedab2b",
   "metadata": {},
   "source": [
    "Shelve package is used to pickle data but treats the entire file as dictionary."
   ]
  },
  {
   "cell_type": "markdown",
   "id": "0209d34b",
   "metadata": {},
   "source": [
    "# Q10. What is a special restriction when using the shelve package, as opposed to using other data dictionaries?"
   ]
  },
  {
   "cell_type": "markdown",
   "id": "1d9c8bca",
   "metadata": {},
   "source": [
    "Only string data type can be used as key in this special dictionary object, whereas any picklable Python object can be used as value."
   ]
  },
  {
   "cell_type": "code",
   "execution_count": null,
   "id": "47eaef0d",
   "metadata": {},
   "outputs": [],
   "source": []
  }
 ],
 "metadata": {
  "kernelspec": {
   "display_name": "Python 3 (ipykernel)",
   "language": "python",
   "name": "python3"
  },
  "language_info": {
   "codemirror_mode": {
    "name": "ipython",
    "version": 3
   },
   "file_extension": ".py",
   "mimetype": "text/x-python",
   "name": "python",
   "nbconvert_exporter": "python",
   "pygments_lexer": "ipython3",
   "version": "3.9.12"
  }
 },
 "nbformat": 4,
 "nbformat_minor": 5
}
