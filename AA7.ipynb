{
 "cells": [
  {
   "cell_type": "markdown",
   "id": "759b436e",
   "metadata": {},
   "source": [
    "## Q1. What is the purpose of the try statement?"
   ]
  },
  {
   "cell_type": "markdown",
   "id": "cd3dde8c",
   "metadata": {},
   "source": [
    "Inside try statement we put our statement , expression or code on which we have to perform the operation.If the code fails to run then except block is executed and exception is raised."
   ]
  },
  {
   "cell_type": "markdown",
   "id": "5caae7ec",
   "metadata": {},
   "source": [
    "##  Q2. What are the two most popular try statement variations?"
   ]
  },
  {
   "cell_type": "markdown",
   "id": "c4da5ac2",
   "metadata": {},
   "source": [
    "i. try-except\n",
    "ii. try-except-else\n",
    "iii. try-except-finally"
   ]
  },
  {
   "cell_type": "markdown",
   "id": "0737b429",
   "metadata": {},
   "source": [
    "## Q3. What is the purpose of the raise statement?"
   ]
  },
  {
   "cell_type": "markdown",
   "id": "a1e28a0a",
   "metadata": {},
   "source": [
    "raise statement is used to raise an exception . we can type our own message and that messsage will be displayed when the error occured."
   ]
  },
  {
   "cell_type": "markdown",
   "id": "5fa089ee",
   "metadata": {},
   "source": [
    "# Q4. What does the assert statement do, and what other statement is it like?"
   ]
  },
  {
   "cell_type": "markdown",
   "id": "2f14010b",
   "metadata": {},
   "source": [
    "Assert statement is used while debugging code .when the condition is true nothing happens and when it is false assertion error is occured"
   ]
  },
  {
   "cell_type": "markdown",
   "id": "6d528beb",
   "metadata": {},
   "source": [
    "# Q5. What is the purpose of the with/as argument, and what other statement is it like?"
   ]
  },
  {
   "cell_type": "raw",
   "id": "b09fd0fb",
   "metadata": {},
   "source": [
    "with and as is used in file handling ,suppose we have to open a file and do some operation on it then with will do it in a fue steps\n",
    "with staement makes the code much cleaner and shorter\n",
    "with open('shiva.txt','a') as er:\n",
    "    er.write('my name is shivanshu mall')"
   ]
  },
  {
   "cell_type": "code",
   "execution_count": null,
   "id": "b89adbc1",
   "metadata": {},
   "outputs": [],
   "source": []
  }
 ],
 "metadata": {
  "kernelspec": {
   "display_name": "Python 3 (ipykernel)",
   "language": "python",
   "name": "python3"
  },
  "language_info": {
   "codemirror_mode": {
    "name": "ipython",
    "version": 3
   },
   "file_extension": ".py",
   "mimetype": "text/x-python",
   "name": "python",
   "nbconvert_exporter": "python",
   "pygments_lexer": "ipython3",
   "version": "3.9.12"
  }
 },
 "nbformat": 4,
 "nbformat_minor": 5
}
