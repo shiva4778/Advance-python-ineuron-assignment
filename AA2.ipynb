{
 "cells": [
  {
   "cell_type": "markdown",
   "id": "28d384db",
   "metadata": {},
   "source": [
    "## Q1. What is the relationship between classes and modules?"
   ]
  },
  {
   "cell_type": "markdown",
   "id": "8cbf17d8",
   "metadata": {},
   "source": [
    "Module can be defined as a collection of constant and object ,module can have a multiple class where class  can not have a class inside it."
   ]
  },
  {
   "cell_type": "markdown",
   "id": "d0c314e0",
   "metadata": {},
   "source": [
    "## Q2. How do you make instances and classes?"
   ]
  },
  {
   "cell_type": "code",
   "execution_count": 10,
   "id": "09f4ae0c",
   "metadata": {},
   "outputs": [],
   "source": [
    "class shivanshu:\n",
    "    def __init__(self,name,age):\n",
    "        self.name=name\n",
    "        self.age=age\n",
    "    def s(self):\n",
    "        return self.name,self.age"
   ]
  },
  {
   "cell_type": "code",
   "execution_count": 11,
   "id": "af551e8c",
   "metadata": {},
   "outputs": [],
   "source": [
    "asw=shivanshu('shivansh',20)"
   ]
  },
  {
   "cell_type": "markdown",
   "id": "c4697f4e",
   "metadata": {},
   "source": [
    "In above code 'asw' is an instance(object) and  the first line show how the class is being created....."
   ]
  },
  {
   "cell_type": "markdown",
   "id": "fb59fcac",
   "metadata": {},
   "source": [
    "## Q3. Where and how should be class attributes created?"
   ]
  },
  {
   "cell_type": "markdown",
   "id": "f0dba706",
   "metadata": {},
   "source": [
    "The class attribute is created outside the init method .it is shared to all the object in the class where instance attribute is used by only a particular object .The value of class attrubute remains same throughout the program\n",
    "Ex \n",
    "class shiva:\n",
    "    a=45\n",
    "    def __init__(self,b):\n",
    "        self.b=b\n",
    "In above code 'a=45' is an class attribute where 'self.b' is an instance attribute.."
   ]
  },
  {
   "cell_type": "markdown",
   "id": "1f03e310",
   "metadata": {},
   "source": [
    "## Q4. Where and how are instance attributes created?"
   ]
  },
  {
   "cell_type": "markdown",
   "id": "c52b3907",
   "metadata": {},
   "source": [
    "The instance attribute is created inside the init function also called constructor of the class .To see how instance attribute is created see the above example..\n"
   ]
  },
  {
   "cell_type": "markdown",
   "id": "aeebe3f0",
   "metadata": {},
   "source": [
    "## Q5. What does the term &quot;self&quot; in a Python class mean?"
   ]
  },
  {
   "cell_type": "markdown",
   "id": "a47ce2e3",
   "metadata": {},
   "source": [
    "We can say self is just an pointer which points the instance attributes inside the class.Whenever we need to access the instance attribute from any function or method inside the class ,we use self to access that attribute.."
   ]
  },
  {
   "cell_type": "markdown",
   "id": "4eda97ab",
   "metadata": {},
   "source": [
    "## Q6. How does a Python class handle operator overloading?"
   ]
  },
  {
   "cell_type": "markdown",
   "id": "88dd276a",
   "metadata": {},
   "source": [
    " Python Classes handle operator overloading by using special methods called Magic methods. these special methods usually begin and end with __ (double underscore)"
   ]
  },
  {
   "cell_type": "markdown",
   "id": "e19a43fd",
   "metadata": {},
   "source": [
    "## Q7. When do you consider allowing operator overloading of your classes?"
   ]
  },
  {
   "cell_type": "markdown",
   "id": "5f0f7d81",
   "metadata": {},
   "source": [
    " When we want to have different meaning for the same operator accroding to the context we use operator overloading.\n",
    "    "
   ]
  },
  {
   "cell_type": "markdown",
   "id": "814dec8b",
   "metadata": {},
   "source": [
    "## Q8. What is the most popular form of operator overloading?"
   ]
  },
  {
   "cell_type": "markdown",
   "id": "2cb5bf5e",
   "metadata": {},
   "source": [
    "Magic Method"
   ]
  },
  {
   "cell_type": "markdown",
   "id": "7f4ba33e",
   "metadata": {},
   "source": [
    "## Q9. What are the two most important concepts to grasp in order to comprehend Python OOP code?"
   ]
  },
  {
   "cell_type": "code",
   "execution_count": null,
   "id": "f37d5126",
   "metadata": {},
   "outputs": [],
   "source": [
    "Ans.Classes and object are the 2 most important concept in oop \n",
    "and we need to know these things in detal also like polymorphism,abstraction,inheritance,encapsulation"
   ]
  }
 ],
 "metadata": {
  "kernelspec": {
   "display_name": "Python 3 (ipykernel)",
   "language": "python",
   "name": "python3"
  },
  "language_info": {
   "codemirror_mode": {
    "name": "ipython",
    "version": 3
   },
   "file_extension": ".py",
   "mimetype": "text/x-python",
   "name": "python",
   "nbconvert_exporter": "python",
   "pygments_lexer": "ipython3",
   "version": "3.9.12"
  }
 },
 "nbformat": 4,
 "nbformat_minor": 5
}
