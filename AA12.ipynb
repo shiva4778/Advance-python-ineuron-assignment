{
 "cells": [
  {
   "cell_type": "markdown",
   "id": "ca9eef70",
   "metadata": {},
   "source": [
    "# Q1. Does assigning a value to a string&#39;s indexed character violate Python&#39;s string immutability?"
   ]
  },
  {
   "cell_type": "markdown",
   "id": "f46cb6c0",
   "metadata": {},
   "source": [
    "Yes .Because string is an immutable object"
   ]
  },
  {
   "cell_type": "markdown",
   "id": "3c5ced5d",
   "metadata": {},
   "source": [
    "# Q2. Does using the += operator to concatenate strings violate Python&#39;s string immutability? Why or why not?"
   ]
  },
  {
   "cell_type": "markdown",
   "id": "5bd1854a",
   "metadata": {},
   "source": [
    "No it does not violate the string immutability because with  '+=' we will add the string and we are not trying to update it so it is immutable.."
   ]
  },
  {
   "cell_type": "markdown",
   "id": "15ec63b8",
   "metadata": {},
   "source": [
    "# Q3. In Python, how many different ways are there to index a character?"
   ]
  },
  {
   "cell_type": "markdown",
   "id": "c8af0a88",
   "metadata": {},
   "source": [
    "By builtin method index and string indexing are 2 way to index a character \n",
    "We can also use positive indexing and negative indexing"
   ]
  },
  {
   "cell_type": "markdown",
   "id": "a9508393",
   "metadata": {},
   "source": [
    "# Q4. What is the relationship between indexing and slicing?"
   ]
  },
  {
   "cell_type": "markdown",
   "id": "e64a12b1",
   "metadata": {},
   "source": [
    "Indexing is used to access a character or element using index no\n",
    "Slicing is used to access a sequence of element"
   ]
  },
  {
   "cell_type": "markdown",
   "id": "4c32854f",
   "metadata": {},
   "source": [
    "# Q5. What is an indexed character&#39;s exact data type? What is the data form of a slicing-generated\n"
   ]
  },
  {
   "cell_type": "markdown",
   "id": "e0358fe5",
   "metadata": {},
   "source": [
    "The data type of indexed character will be same as the type of element .Data form of a slicing-generated will be same as the type of data"
   ]
  },
  {
   "cell_type": "markdown",
   "id": "08956cc6",
   "metadata": {},
   "source": [
    "# Q6. What is the relationship between string and character &quot;types&quot; in Python?"
   ]
  },
  {
   "cell_type": "code",
   "execution_count": null,
   "id": "0e33a1c3",
   "metadata": {},
   "outputs": [],
   "source": [
    "They both have the data type of str"
   ]
  },
  {
   "cell_type": "markdown",
   "id": "59c1ab68",
   "metadata": {},
   "source": [
    "# Q7. Identify at least two operators and one method that allow you to combine one or more smaller strings to create a larger string."
   ]
  },
  {
   "cell_type": "markdown",
   "id": "5ded6bdd",
   "metadata": {},
   "source": [
    "The 2 operators are '+' and '+='.The methods to join string are __add__ method,string formatting and join."
   ]
  },
  {
   "cell_type": "markdown",
   "id": "672c2d02",
   "metadata": {},
   "source": [
    "# Q8. What is the benefit of first checking the target string with in or not in before using the index method to find a substring?"
   ]
  },
  {
   "cell_type": "markdown",
   "id": "28631a0d",
   "metadata": {},
   "source": [
    "By using in and not in it will return the booean value True and False but in the case we are not using it and  element is not present it will raise an error which will stop the flow of program."
   ]
  },
  {
   "cell_type": "markdown",
   "id": "d2fe8adb",
   "metadata": {},
   "source": [
    "# Q9. Which operators and built-in string methods produce simple Boolean (true/false) results?"
   ]
  },
  {
   "cell_type": "markdown",
   "id": "9db52da6",
   "metadata": {},
   "source": [
    "i.Operators are and or ,not they produce the boolean result. Built in method is 'in' and 'not in' which return true and false."
   ]
  },
  {
   "cell_type": "code",
   "execution_count": null,
   "id": "ebbd6432",
   "metadata": {},
   "outputs": [],
   "source": []
  }
 ],
 "metadata": {
  "kernelspec": {
   "display_name": "Python 3 (ipykernel)",
   "language": "python",
   "name": "python3"
  },
  "language_info": {
   "codemirror_mode": {
    "name": "ipython",
    "version": 3
   },
   "file_extension": ".py",
   "mimetype": "text/x-python",
   "name": "python",
   "nbconvert_exporter": "python",
   "pygments_lexer": "ipython3",
   "version": "3.9.12"
  }
 },
 "nbformat": 4,
 "nbformat_minor": 5
}
