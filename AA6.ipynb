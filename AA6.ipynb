{
 "cells": [
  {
   "cell_type": "markdown",
   "id": "6f49c872",
   "metadata": {},
   "source": [
    "## Q1. Describe three applications for exception processing."
   ]
  },
  {
   "cell_type": "raw",
   "id": "761eb0da",
   "metadata": {},
   "source": [
    "3 applications of exception processing are..\n",
    "i.Whenever the program is going to stuck at  any point , then whole program is not going to stop , it will throw error and next statement will run\n",
    "ii.It avoids the system crashing\n",
    "iii.It is raised during the runtime error like FileNotFound Error,IO error etc.It helps to maintain the noramal ,desired flow of program even when any error occurs."
   ]
  },
  {
   "cell_type": "markdown",
   "id": "0444a7c5",
   "metadata": {},
   "source": [
    "## Q2. What happens if you don&#39;t do something extra to treat an exception?"
   ]
  },
  {
   "cell_type": "raw",
   "id": "61410d3e",
   "metadata": {},
   "source": [
    "The program will stuck there and may be whole system is going to crash if we don't handle the exception"
   ]
  },
  {
   "cell_type": "markdown",
   "id": "32086e68",
   "metadata": {},
   "source": [
    "## Q3. What are your options for recovering from an exception in your script?"
   ]
  },
  {
   "cell_type": "raw",
   "id": "0dae3fe6",
   "metadata": {},
   "source": [
    "try and except block"
   ]
  },
  {
   "cell_type": "markdown",
   "id": "c2d2571e",
   "metadata": {},
   "source": [
    "## Q4. Describe two methods for triggering exceptions in your script."
   ]
  },
  {
   "cell_type": "raw",
   "id": "9f60f4c8",
   "metadata": {},
   "source": [
    "Two methods for trigeering exceptions in your script are :\n",
    "    raise and assert\n",
    "    raise --This will raise the error when the condition is true\n",
    "    assert --This will stop the execution of program if the condition is not satisfied and raises an error"
   ]
  },
  {
   "cell_type": "markdown",
   "id": "08165c3e",
   "metadata": {},
   "source": [
    "## Q5. Identify two methods for specifying actions to be executed at termination time, regardless of whether or not an exception exists."
   ]
  },
  {
   "cell_type": "raw",
   "id": "9b03c9a3",
   "metadata": {},
   "source": [
    "else and finally block is executed whether there is exception or not"
   ]
  },
  {
   "cell_type": "code",
   "execution_count": null,
   "id": "4b61134a",
   "metadata": {},
   "outputs": [],
   "source": []
  }
 ],
 "metadata": {
  "kernelspec": {
   "display_name": "Python 3 (ipykernel)",
   "language": "python",
   "name": "python3"
  },
  "language_info": {
   "codemirror_mode": {
    "name": "ipython",
    "version": 3
   },
   "file_extension": ".py",
   "mimetype": "text/x-python",
   "name": "python",
   "nbconvert_exporter": "python",
   "pygments_lexer": "ipython3",
   "version": "3.9.12"
  }
 },
 "nbformat": 4,
 "nbformat_minor": 5
}
