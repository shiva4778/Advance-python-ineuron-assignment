{
 "cells": [
  {
   "cell_type": "markdown",
   "id": "a1016b69",
   "metadata": {},
   "source": [
    "# Q1. What are the benefits of the built-in array package, if any?"
   ]
  },
  {
   "cell_type": "markdown",
   "id": "4f725b41",
   "metadata": {},
   "source": [
    "Benefits of ***array***\n",
    "It is very fast comparison to the list\n",
    "It can be used to store the data of same type.\n",
    "It allocates the contigious memory location"
   ]
  },
  {
   "cell_type": "markdown",
   "id": "a3eebfe9",
   "metadata": {},
   "source": [
    "# Q2. What are some of the array package&#39;s limitations?"
   ]
  },
  {
   "cell_type": "markdown",
   "id": "bdbab6ae",
   "metadata": {},
   "source": [
    " The number of elements to be stored in an array should be known in advance. An array is a static structure (which means the array is of fixed size). Once declared the size of the array cannot be modified. The memory which is allocated to it cannot be increased or decreased.\n",
    "\n",
    "Insertion and deletion are quite difficult in an array as the elements are stored in consecutive memory locations and the shifting operation is costly.\n",
    "\n",
    "Allocating more memory than the requirement leads to wastage of memory space and less allocation of memory also leads to a problem"
   ]
  },
  {
   "cell_type": "markdown",
   "id": "ba6b97e5",
   "metadata": {},
   "source": [
    "# Q3. Describe the main differences between the array and numpy packages."
   ]
  },
  {
   "cell_type": "markdown",
   "id": "e5cc2f15",
   "metadata": {},
   "source": [
    "We can create array with the help of numpy package\n",
    "The array package doesn't provide any help with numerical calculation with the items insdie it in number form while NumPy give you a wide variety of numerical operations.\n",
    "\n",
    "An array is a single dimensional entity which hold the numerical data, while numpy can have more than 1 dimension.\n",
    "\n",
    "In case of array, item can be accessed by its index position and it is easy task while in numpy item is accessed by its column and row index, which makes it slightly time taking. Same goes with appending operation.\n",
    "\n",
    "In case of array we do not form a tabular structure, while in numpy it forms a tabular structure"
   ]
  },
  {
   "cell_type": "markdown",
   "id": "b4788de0",
   "metadata": {},
   "source": [
    "# Q4. Explain the distinctions between the empty, ones, and zeros functions."
   ]
  },
  {
   "cell_type": "markdown",
   "id": "21d8ba75",
   "metadata": {},
   "source": [
    "Empty function: An empty function is a function that does not contain any statement within its body. If you try to write a function definition without any statement in python ,it will return an error. To avoid this, we use pass statement. pass is a special statement in Python that does nothing. It only works as a dummy statement.\n",
    "Ones: This function returns a new array of given shape and data type, where the element’s value is 1.\n",
    "Zeros: This function returns a new array of given shape and data type, where the element’s value is 0."
   ]
  },
  {
   "cell_type": "markdown",
   "id": "883a76a8",
   "metadata": {},
   "source": [
    "# Q5. In the fromfunction function, which is used to construct new arrays, what is the role of the callable argument?"
   ]
  },
  {
   "cell_type": "markdown",
   "id": "1aeea49e",
   "metadata": {},
   "source": [
    "Its function is to execute the function over each coordinate and the resulting array. The function is called with N parameters, where N is the rank of shape. Each parameter represents the coordinates of the array varying along a specific axis."
   ]
  },
  {
   "cell_type": "markdown",
   "id": "e4642895",
   "metadata": {},
   "source": [
    "# Q6. What happens when a numpy array is combined with a single-value operand (a scalar, such as an int or a floating-point value) through addition, as in the expression A + n?"
   ]
  },
  {
   "cell_type": "markdown",
   "id": "c3f2e30c",
   "metadata": {},
   "source": [
    "If any scaler value such as integer is added to the numpy array then all the elements inside the array will add that value in it.`"
   ]
  },
  {
   "cell_type": "markdown",
   "id": "71f942e1",
   "metadata": {},
   "source": [
    "# Q7. Can array-to-scalar operations use combined operation-assign operators (such as += or *=)? What is the outcome?"
   ]
  },
  {
   "cell_type": "markdown",
   "id": "070580ca",
   "metadata": {},
   "source": [
    "It will carry out the operation on all the element of the array"
   ]
  },
  {
   "cell_type": "markdown",
   "id": "520b3c49",
   "metadata": {},
   "source": [
    "# Q8. Does a numpy array contain fixed-length strings? What happens if you allocate a longer string to one of these arrays?"
   ]
  },
  {
   "cell_type": "markdown",
   "id": "e5aa6ca2",
   "metadata": {},
   "source": [
    " Yes, it is possible that we can include a string of fixed length in numpy array. The dtype of any numpy array containing string values is the maximum length of any string present in the array.Once set, it will only be able to store new string having length not more than the maximum length at the time of the creation. If we try to reassign some another string value having length greater than the maximum length of the existing elements, it simply discards all the values beyond the maximum length accept upto those values which are under the limit."
   ]
  },
  {
   "cell_type": "markdown",
   "id": "4a445c1b",
   "metadata": {},
   "source": [
    "# Q9. What happens when you combine two numpy arrays using an operation like addition (+) or multiplication (*)? What are the conditions for combining two numpy arrays?"
   ]
  },
  {
   "cell_type": "markdown",
   "id": "b35f57ae",
   "metadata": {},
   "source": [
    "it will simply add or multiply element to element at same position."
   ]
  },
  {
   "cell_type": "markdown",
   "id": "e1ef94b7",
   "metadata": {},
   "source": [
    "# Q10. What is the best way to use a Boolean array to mask another array?"
   ]
  },
  {
   "cell_type": "markdown",
   "id": "861b1d2f",
   "metadata": {},
   "source": [
    " The best way to use a Boolean array to mask another array is by Using masked_where of numpy package"
   ]
  },
  {
   "cell_type": "markdown",
   "id": "f7bee296",
   "metadata": {},
   "source": [
    "# `Q11. What are three different ways to get the standard deviation of a wide collection of data using both standard Python and its packages? Sort the three of them by how quickly they execute."
   ]
  },
  {
   "cell_type": "markdown",
   "id": "e548c63f",
   "metadata": {},
   "source": [
    "np.std() and math package can be used individually"
   ]
  },
  {
   "cell_type": "markdown",
   "id": "005d1696",
   "metadata": {},
   "source": [
    "# 12. What is the dimensionality of a Boolean mask-generated array?"
   ]
  },
  {
   "cell_type": "markdown",
   "id": "252a56a5",
   "metadata": {},
   "source": [
    "It will have same dimensionality as input `array"
   ]
  },
  {
   "cell_type": "code",
   "execution_count": null,
   "id": "d9ef94fb",
   "metadata": {},
   "outputs": [],
   "source": []
  }
 ],
 "metadata": {
  "kernelspec": {
   "display_name": "Python 3 (ipykernel)",
   "language": "python",
   "name": "python3"
  },
  "language_info": {
   "codemirror_mode": {
    "name": "ipython",
    "version": 3
   },
   "file_extension": ".py",
   "mimetype": "text/x-python",
   "name": "python",
   "nbconvert_exporter": "python",
   "pygments_lexer": "ipython3",
   "version": "3.9.12"
  }
 },
 "nbformat": 4,
 "nbformat_minor": 5
}
