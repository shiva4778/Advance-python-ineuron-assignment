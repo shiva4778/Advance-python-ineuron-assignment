{
 "cells": [
  {
   "cell_type": "markdown",
   "id": "f3ffc50a",
   "metadata": {},
   "source": [
    "# Q1. What is a probability distribution, exactly? If the values are meant to be random, how can you predict them at all?"
   ]
  },
  {
   "cell_type": "markdown",
   "id": "25790a38",
   "metadata": {},
   "source": [
    "In probability distribution it can be defined as probability of different outcome of an experiment "
   ]
  },
  {
   "cell_type": "markdown",
   "id": "f9270905",
   "metadata": {},
   "source": [
    "# Q2. Is there a distinction between true random numbers and pseudo-random numbers, if there is one? Why are the latter considered “good enough”?"
   ]
  },
  {
   "cell_type": "markdown",
   "id": "c455b3f9",
   "metadata": {},
   "source": [
    "True Random Numbers are true physical values while pseudo-random numbers are generated internally by a program . Latter is considered good enough as they have sort of uniform distribution."
   ]
  },
  {
   "cell_type": "markdown",
   "id": "fc10fcb6",
   "metadata": {},
   "source": [
    "# Q3. What are the two main factors that influence the behaviour of a &quot;normal&quot; probability distribution?"
   ]
  },
  {
   "cell_type": "markdown",
   "id": "2f0182aa",
   "metadata": {},
   "source": [
    "It is influence by ***mean*** and ***variance***"
   ]
  },
  {
   "cell_type": "markdown",
   "id": "70744079",
   "metadata": {},
   "source": [
    "# Q4. Provide a real-life example of a normal distribution."
   ]
  },
  {
   "cell_type": "markdown",
   "id": "26340db5",
   "metadata": {},
   "source": [
    "Weight and height of the people"
   ]
  },
  {
   "cell_type": "markdown",
   "id": "e68e2d3a",
   "metadata": {},
   "source": [
    "# In the short term, how can you expect a probability distribution to behave? What do you think will happen as the number of trials grows?"
   ]
  },
  {
   "cell_type": "markdown",
   "id": "a009d577",
   "metadata": {},
   "source": [
    "\n",
    "***variance*** will decrease with increase in the no of trials"
   ]
  },
  {
   "cell_type": "markdown",
   "id": "3015b6ca",
   "metadata": {},
   "source": [
    "# Q6. What kind of object can be shuffled by using random.shuffle?"
   ]
  },
  {
   "cell_type": "markdown",
   "id": "d6309f9b",
   "metadata": {},
   "source": [
    ": lists (list), strings (str) and tuples (tuple) objects can be shuffled by using random.shuffle."
   ]
  },
  {
   "cell_type": "markdown",
   "id": "66fd2027",
   "metadata": {},
   "source": [
    "# Q7. Describe the math package&#39;s general categories of functions."
   ]
  },
  {
   "cell_type": "markdown",
   "id": "6d47effd",
   "metadata": {},
   "source": [
    "The Math package's general categories of functions are:\n",
    "\n",
    "Trigonometric functions\n",
    "Quadratic functions\n",
    "Exponential functions\n",
    "Hyperbolic functions\n",
    "Periodic functions\n",
    "Arithmetic functions\n",
    "Logarithimic functions\n",
    "Conversions to Integer"
   ]
  },
  {
   "cell_type": "markdown",
   "id": "ca3cdcb5",
   "metadata": {},
   "source": [
    "# Q8. What is the relationship between exponentiation and logarithms?"
   ]
  },
  {
   "cell_type": "markdown",
   "id": "5a987380",
   "metadata": {},
   "source": [
    "Exponentation and logarithm are inverse of ech other"
   ]
  },
  {
   "cell_type": "markdown",
   "id": "ddef3414",
   "metadata": {},
   "source": [
    "# Q9. What are the three logarithmic functions that Python supports?"
   ]
  },
  {
   "cell_type": "markdown",
   "id": "71313418",
   "metadata": {},
   "source": [
    "log2(x) - logarithmic value of x to base 2\n",
    "log10(x) - logarithmic value of x to base 10\n",
    "log1p(a) - This function is used to compute logarithm(1+a) ."
   ]
  },
  {
   "cell_type": "code",
   "execution_count": null,
   "id": "e27ede86",
   "metadata": {},
   "outputs": [],
   "source": []
  }
 ],
 "metadata": {
  "kernelspec": {
   "display_name": "Python 3 (ipykernel)",
   "language": "python",
   "name": "python3"
  },
  "language_info": {
   "codemirror_mode": {
    "name": "ipython",
    "version": 3
   },
   "file_extension": ".py",
   "mimetype": "text/x-python",
   "name": "python",
   "nbconvert_exporter": "python",
   "pygments_lexer": "ipython3",
   "version": "3.9.12"
  }
 },
 "nbformat": 4,
 "nbformat_minor": 5
}
