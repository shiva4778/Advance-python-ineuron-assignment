{
 "cells": [
  {
   "cell_type": "markdown",
   "id": "a2121a76",
   "metadata": {},
   "source": [
    "# 1. What are the new features added in Python 3.8 version?"
   ]
  },
  {
   "cell_type": "markdown",
   "id": "e2400ee5",
   "metadata": {},
   "source": [
    "i.Assignment Expression\n",
    "ii.f-string support\n",
    "iii.Positional-only parameter"
   ]
  },
  {
   "cell_type": "markdown",
   "id": "3d95a333",
   "metadata": {},
   "source": [
    "# 2. What is monkey patching in Python?"
   ]
  },
  {
   "cell_type": "markdown",
   "id": "ef323e48",
   "metadata": {},
   "source": [
    "Changing the attribute of a function during the runtime i caled monkey patching"
   ]
  },
  {
   "cell_type": "markdown",
   "id": "495eaf63",
   "metadata": {},
   "source": [
    "# 3. What is the difference between a shallow copy and deep copy?"
   ]
  },
  {
   "cell_type": "markdown",
   "id": "e7b8c0c5",
   "metadata": {},
   "source": [
    "Shallow copy stores the reference of the object\n",
    "Deep copy makes a copy of the object\n",
    "When any change is made in shallow copy then it is reflected in original object also\n",
    "When any change is made in deep copy then it is not refected in original object\n",
    "Shallow copy is faster comparatively to deep copy"
   ]
  },
  {
   "cell_type": "markdown",
   "id": "b7b0fa0f",
   "metadata": {},
   "source": [
    "# 4. What is the maximum possible length of an identifier?"
   ]
  },
  {
   "cell_type": "markdown",
   "id": "6ef1a23c",
   "metadata": {},
   "source": [
    "79 characters"
   ]
  },
  {
   "cell_type": "markdown",
   "id": "d12678c9",
   "metadata": {},
   "source": [
    "# 5. What is generator comprehension?"
   ]
  },
  {
   "cell_type": "markdown",
   "id": "1e0464a9",
   "metadata": {},
   "source": [
    "The generator yield only one item at a time and gives item on demand"
   ]
  }
 ],
 "metadata": {
  "kernelspec": {
   "display_name": "Python 3 (ipykernel)",
   "language": "python",
   "name": "python3"
  },
  "language_info": {
   "codemirror_mode": {
    "name": "ipython",
    "version": 3
   },
   "file_extension": ".py",
   "mimetype": "text/x-python",
   "name": "python",
   "nbconvert_exporter": "python",
   "pygments_lexer": "ipython3",
   "version": "3.9.12"
  }
 },
 "nbformat": 4,
 "nbformat_minor": 5
}
